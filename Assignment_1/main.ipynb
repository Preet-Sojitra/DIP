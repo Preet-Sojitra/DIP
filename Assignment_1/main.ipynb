{
 "cells": [
  {
   "cell_type": "markdown",
   "metadata": {},
   "source": [
    "# DIP Lab Assignment 1\n",
    "\n",
    "Name: Preet Sojitra\n",
    "\n",
    "Roll No: 21BCP388\n",
    "\n",
    "Division: 6"
   ]
  },
  {
   "cell_type": "markdown",
   "metadata": {},
   "source": [
    "## Write a program to perform point processing based image enhancements on the images.  "
   ]
  },
  {
   "cell_type": "markdown",
   "metadata": {},
   "source": [
    "NOTE: \n",
    "\n",
    "Outputs of each cell has been intentionally removed in order to reduce the size of the file. You can run the code to see the outputs. Size of the ipynb increases drsatiscally due to the images as output."
   ]
  },
  {
   "cell_type": "code",
   "execution_count": null,
   "metadata": {},
   "outputs": [],
   "source": [
    "# importning necceary libraries\n",
    "from PIL import Image\n",
    "import os\n",
    "import numpy as np\n",
    "import matplotlib.pyplot as plt"
   ]
  },
  {
   "cell_type": "markdown",
   "metadata": {},
   "source": [
    "#### a. Image Negative"
   ]
  },
  {
   "cell_type": "code",
   "execution_count": null,
   "metadata": {},
   "outputs": [],
   "source": [
    "img = \"images/img5.tif\"\n",
    "im = Image.open(img)\n",
    "im"
   ]
  },
  {
   "cell_type": "code",
   "execution_count": null,
   "metadata": {},
   "outputs": [],
   "source": [
    "# type of image\n",
    "im.mode"
   ]
  },
  {
   "cell_type": "markdown",
   "metadata": {},
   "source": [
    "Image is already a grayscale image. So, we don't need to convert it to grayscale. We can directly apply the negative transformation on the image."
   ]
  },
  {
   "cell_type": "code",
   "execution_count": null,
   "metadata": {},
   "outputs": [],
   "source": [
    "im = np.array(im)\n",
    "im.shape"
   ]
  },
  {
   "cell_type": "code",
   "execution_count": null,
   "metadata": {},
   "outputs": [],
   "source": [
    "# creating a new image, so that we don't modify the original image\n",
    "enhanced_im = np.zeros(im.shape, dtype=np.uint8)"
   ]
  },
  {
   "cell_type": "code",
   "execution_count": null,
   "metadata": {},
   "outputs": [],
   "source": [
    "for height in range(im.shape[0]):\n",
    "    for width in range(im.shape[1]):\n",
    "        \"\"\"\n",
    "        Negative transformation = 255 - original pixel value\n",
    "        \"\"\"\n",
    "        enhanced_im[height, width] = 255 - im[height, width]"
   ]
  },
  {
   "cell_type": "code",
   "execution_count": null,
   "metadata": {},
   "outputs": [],
   "source": [
    "enhanced_im = Image.fromarray(enhanced_im)\n",
    "enhanced_im"
   ]
  },
  {
   "cell_type": "markdown",
   "metadata": {},
   "source": [
    "Now let's create a function to apply negative transformation on all the images in the given directory."
   ]
  },
  {
   "cell_type": "code",
   "execution_count": null,
   "metadata": {},
   "outputs": [],
   "source": [
    "def invert_image(images:list) -> list:\n",
    "    \"\"\"\n",
    "    Transforms the image to its negative. For each pixel in the image, the pixel value is subtracted from 255.\n",
    "    \n",
    "    FORMULA:\n",
    "        Negative transformation = 255 - original pixel value\n",
    "\n",
    "    Args:\n",
    "        images (list): List of image paths\n",
    "\n",
    "    Returns:\n",
    "        list: List of enhanced images\n",
    "    \"\"\"\n",
    "    enhanced_images = []\n",
    "    for img in images:\n",
    "        im = Image.open(img)\n",
    "        im = np.array(im)\n",
    "        enhanced_im = np.zeros(im.shape, dtype=np.uint8)\n",
    "        for height in range(im.shape[0]):\n",
    "            for width in range(im.shape[1]):\n",
    "                enhanced_im[height, width] = 255 - im[height, width]\n",
    "        enhanced_images.append(enhanced_im)\n",
    "    return enhanced_images"
   ]
  },
  {
   "cell_type": "code",
   "execution_count": null,
   "metadata": {},
   "outputs": [],
   "source": [
    "# First we will list all the images in the images folder\n",
    "images = os.listdir(\"./images\")\n",
    "images = [\"./images/\" + img for img in images] # adding the path to the images"
   ]
  },
  {
   "cell_type": "code",
   "execution_count": null,
   "metadata": {},
   "outputs": [],
   "source": [
    "# Now we will use the function to invert the images\n",
    "inverted_images = invert_image(images)"
   ]
  },
  {
   "cell_type": "code",
   "execution_count": null,
   "metadata": {},
   "outputs": [],
   "source": [
    "# Let's plot the original and the inverted images\n",
    "fig, ax = plt.subplots(2, 6, figsize=(30, 10)) # we are creating a grid of 2 rows and 6 columns\n",
    "\n",
    "for i in range(6):\n",
    "    ax[0, i].imshow(Image.open(images[i]), cmap=\"gray\")\n",
    "    ax[0, i].set_title(\"Original Image\", fontsize=15)\n",
    "    ax[0, i].axis(\"off\")\n",
    "    ax[1, i].imshow(inverted_images[i], cmap=\"gray\")\n",
    "    ax[1, i].set_title(\"Inverted Image\", fontsize=15)\n",
    "    ax[1, i].axis(\"off\")\n",
    "    \n",
    "plt.subplots_adjust(wspace=0.1, hspace=0.2)\n",
    "plt.show()"
   ]
  },
  {
   "cell_type": "markdown",
   "metadata": {},
   "source": [
    "#### b. Log & Inverse Log Transformations"
   ]
  },
  {
   "cell_type": "code",
   "execution_count": null,
   "metadata": {},
   "outputs": [],
   "source": [
    "img = \"images/img4.tif\"\n",
    "im = Image.open(img)\n",
    "im"
   ]
  },
  {
   "cell_type": "code",
   "execution_count": null,
   "metadata": {},
   "outputs": [],
   "source": [
    "epsilon = 1e-5\n",
    "constant = 3\n",
    "\n",
    "im = np.array(im)\n",
    "norm_im = im / 255.0 # normalizing the image\n",
    "norm_im"
   ]
  },
  {
   "cell_type": "code",
   "execution_count": null,
   "metadata": {},
   "outputs": [],
   "source": [
    "norm_im = norm_im + epsilon # adding a small value to the image\n",
    "norm_im"
   ]
  },
  {
   "cell_type": "code",
   "execution_count": null,
   "metadata": {},
   "outputs": [],
   "source": [
    "enhanced_im = constant * np.log(1 + norm_im) # applying the log transformation\n",
    "enhanced_im"
   ]
  },
  {
   "cell_type": "code",
   "execution_count": null,
   "metadata": {},
   "outputs": [],
   "source": [
    "enhanced_im = (enhanced_im * 255).astype(np.uint8) # scaling the image\n",
    "enhanced_im"
   ]
  },
  {
   "cell_type": "code",
   "execution_count": null,
   "metadata": {},
   "outputs": [],
   "source": [
    "enhanced_im = Image.fromarray(enhanced_im) # converting the image back to uint8\n",
    "enhanced_im"
   ]
  },
  {
   "cell_type": "markdown",
   "metadata": {},
   "source": [
    "Let's create a function to apply log transformations. "
   ]
  },
  {
   "cell_type": "code",
   "execution_count": null,
   "metadata": {},
   "outputs": [],
   "source": [
    "def log_transformation(images:list, c=1) -> list:\n",
    "    \"\"\"Apply Log Transformation to the images\n",
    "    \n",
    "    Formula:\n",
    "        Enhanced_pixel = c * log(1 + original_pixel)\n",
    "\n",
    "    Args:\n",
    "        images (list): List of image paths\n",
    "        c (int, optional): Constant . Defaults to 1.\n",
    "\n",
    "    Returns:\n",
    "        list: Enhanced log transformed images\n",
    "    \"\"\"\n",
    "    EPSILON = 1e-5\n",
    "    enchanced_images = []\n",
    "    for img in images:\n",
    "        img = Image.open(img)\n",
    "        img = np.array(img)\n",
    "        norm_img = img / 255.0\n",
    "        norm_img = norm_img + EPSILON\n",
    "        enhanced_img = c * np.log(1 + norm_img)\n",
    "        enhanced_img = (enhanced_img * 255).astype(np.uint8)\n",
    "        enchanced_images.append(enhanced_img)\n",
    "    return enchanced_images"
   ]
  },
  {
   "cell_type": "code",
   "execution_count": null,
   "metadata": {},
   "outputs": [],
   "source": [
    "log_transformed_images = log_transformation(images, c=2)"
   ]
  },
  {
   "cell_type": "code",
   "execution_count": null,
   "metadata": {},
   "outputs": [],
   "source": [
    "# Let's plot the original and the log transformed images\n",
    "fig, ax = plt.subplots(2, 6, figsize=(30, 10)) # we are creating a grid of 2 rows and 6 columns\n",
    "for i in range(6):\n",
    "    ax[0, i].imshow(Image.open(images[i]), cmap=\"gray\")\n",
    "    ax[0, i].set_title(\"Original Image\", fontsize=15)\n",
    "    ax[0, i].axis(\"off\")\n",
    "    ax[1, i].imshow(log_transformed_images[i], cmap=\"gray\")\n",
    "    ax[1, i].set_title(\"Log Transformed Image\", fontsize=15)\n",
    "    ax[1, i].axis(\"off\")\n",
    "\n",
    "plt.suptitle(\"Log Transformation. C=2\", fontsize=20)    \n",
    "plt.subplots_adjust(wspace=0.1, hspace=0.2)\n",
    "plt.show()"
   ]
  },
  {
   "cell_type": "markdown",
   "metadata": {},
   "source": [
    "Let's create a function to plot the images also. So that we don't need to write the same code again and again."
   ]
  },
  {
   "cell_type": "code",
   "execution_count": null,
   "metadata": {},
   "outputs": [],
   "source": [
    "def plot_images(images:list, rows:int, cols:int, plot_title:str, titles:list=[\"Original Image\", \"Transformed Image\"], figsize:tuple=(30, 10)):\n",
    "    \"\"\"Plots the original and transformed images one below the other.\n",
    "\n",
    "    Args:\n",
    "        images (list): List of all images. The first half of the list should contain the original images and the second half should contain the transformed images.\n",
    "        rows (int): Number of rows in the plot grid\n",
    "        cols (int): Number of columns in the plot grid\n",
    "        titles (list, optional): Titles of the images. Defaults to [\"Original Image\", \"Transformed Image\"].\n",
    "        figsize (tuple, optional): Size of the plot. Defaults to (30, 10).\n",
    "\n",
    "    Raises:\n",
    "        ValueError: If the number of rows and length of titles are not equal\n",
    "    \"\"\"\n",
    "    \n",
    "    # Number of rows and length of titles should be equal\n",
    "    if rows != len(titles):\n",
    "        raise ValueError(\"Number of rows and length of titles should be equal\")\n",
    "\n",
    "    fig, ax = plt.subplots(rows, cols, figsize=figsize)\n",
    "    for i in range(rows):\n",
    "        for j in range(cols):\n",
    "            ax[i, j].imshow(images[i*cols + j], cmap=\"gray\")\n",
    "            ax[i, j].set_title(titles[i], fontsize=15)\n",
    "            \n",
    "            # if i == 0:\n",
    "            #     ax[i, j].set_title(titles[0], fontsize=15)\n",
    "            # else:\n",
    "            #     ax[i, j].set_title(titles[1], fontsize=15)\n",
    "                \n",
    "            ax[i, j].axis(\"off\")\n",
    "    \n",
    "    if plot_title:\n",
    "        plt.suptitle(plot_title, fontsize=20)\n",
    "    plt.subplots_adjust(wspace=0.1, hspace=0.2)\n",
    "    plt.show()"
   ]
  },
  {
   "cell_type": "code",
   "execution_count": null,
   "metadata": {},
   "outputs": [],
   "source": [
    "original_images = [Image.open(img) for img in images]\n",
    "original_images = [np.array(img) for img in original_images]"
   ]
  },
  {
   "cell_type": "code",
   "execution_count": null,
   "metadata": {},
   "outputs": [],
   "source": [
    "# append the log transformed images to the original images\n",
    "all_images = original_images + log_transformed_images\n",
    "len(all_images)"
   ]
  },
  {
   "cell_type": "code",
   "execution_count": null,
   "metadata": {},
   "outputs": [],
   "source": [
    "plot_images(all_images, 2, 6, titles=[\"Original Image\", \"Log Transformed Image\"])"
   ]
  },
  {
   "cell_type": "markdown",
   "metadata": {},
   "source": [
    "#### c. Gamma Correction (power law) with different +ve and –ve values of gamma, gamma greater than 1 and less than 1. "
   ]
  },
  {
   "cell_type": "code",
   "execution_count": null,
   "metadata": {},
   "outputs": [],
   "source": [
    "img = \"images/img3.tif\"\n",
    "im = Image.open(img)\n",
    "im"
   ]
  },
  {
   "cell_type": "code",
   "execution_count": null,
   "metadata": {},
   "outputs": [],
   "source": [
    "im = np.array(im)\n",
    "enhanced_im = np.zeros(im.shape, dtype=np.uint8)"
   ]
  },
  {
   "cell_type": "code",
   "execution_count": null,
   "metadata": {},
   "outputs": [],
   "source": [
    "CONSTANT = 1\n",
    "GAMMA = 3\n",
    "\n",
    "# normalizing the image\n",
    "norm_im = im / 255.0\n",
    "norm_im"
   ]
  },
  {
   "cell_type": "code",
   "execution_count": null,
   "metadata": {},
   "outputs": [],
   "source": [
    "# power transformation\n",
    "enhanced_im = np.power(norm_im, GAMMA) * CONSTANT\n",
    "enhanced_im = (enhanced_im * 255).astype(np.uint8)\n",
    "enhanced_im = Image.fromarray(enhanced_im)\n",
    "enhanced_im"
   ]
  },
  {
   "cell_type": "code",
   "execution_count": null,
   "metadata": {},
   "outputs": [],
   "source": [
    "# Let's create a fuction to apply the power transformation to the images\n",
    "def power_transformation(images:list, c=1, gamma=1) -> list:\n",
    "    \"\"\"Applies the power transformation to the images.\n",
    "    \n",
    "    FORMULA:\n",
    "        enhanced_pixel_value = c * (original_pixel_value ^ gamma)\n",
    "\n",
    "    Args:\n",
    "        images (list): List of image paths\n",
    "        c (int, optional): Constant value. Defaults to 1.\n",
    "        gamma (int, optional): Power value. Defaults to 1.\n",
    "\n",
    "    Returns:\n",
    "        list: List of enhanced images\n",
    "    \"\"\"\n",
    "    EPSILON = 1e-10\n",
    "    enchanced_images = []\n",
    "    for img in images:\n",
    "        img = Image.open(img)\n",
    "        img = np.array(img)\n",
    "        norm_img = img / 255.0\n",
    "        # Norm_img + EPSILON is used to avoid division by zero when the gamma value is less than 1\n",
    "        norm_img = norm_img + EPSILON\n",
    "        enhanced_img = np.power(norm_img, gamma) * c\n",
    "        # Need to clip the values between 0 and 1 as power transformation can rsometimes produce values much greater than 1 that exceeds the range of uint8 data type thus giving runtime error saying \"Invalid value encountered in cast\"\n",
    "        enhanced_img = np.clip(enhanced_img, 0, 1)\n",
    "        enhanced_img = (enhanced_img * 255).astype(np.uint8)\n",
    "        enchanced_images.append(enhanced_img)\n",
    "        \n",
    "    return enchanced_images\n"
   ]
  },
  {
   "cell_type": "code",
   "execution_count": null,
   "metadata": {},
   "outputs": [],
   "source": [
    "power_transformed_images = power_transformation(images, c=1, gamma=3)"
   ]
  },
  {
   "cell_type": "code",
   "execution_count": null,
   "metadata": {},
   "outputs": [],
   "source": [
    "# Let's plot the original and the power transformed images\n",
    "plot_images(original_images+power_transformed_images, 2, 6, plot_title=\"Power Transformation C=1, Gamma=3\", titles=[\"Original Image\", \"Power Transformed Image\"])"
   ]
  },
  {
   "cell_type": "code",
   "execution_count": null,
   "metadata": {},
   "outputs": [],
   "source": [
    "# Experimenting with different values of c and gamma\n",
    "c = [1, 2, 3]\n",
    "gamma = [-2, -1, 1, 2, 3]\n",
    "\n",
    "num_rows = len(c)\n",
    "num_cols = len(gamma) + 1\n",
    "\n",
    "fig, axs = plt.subplots(len(images) * num_rows, num_cols, figsize=(num_cols * 10, len(images) * num_rows * 10))\n",
    "\n",
    "for idx, image in enumerate(images):\n",
    "    for row, c_val in enumerate(c):\n",
    "        axs[idx * num_rows + row, 0].imshow(Image.open(image), cmap=\"gray\")\n",
    "        axs[idx * num_rows + row, 0].set_title(\"Original Image\", fontsize=40)\n",
    "        axs[idx * num_rows + row, 0].axis(\"off\")\n",
    "        \n",
    "        for col, gamma_val in enumerate(gamma):\n",
    "            power_transformation_images = power_transformation([image], c=c_val, gamma=gamma_val)\n",
    "            axs[idx * num_rows + row, col + 1].imshow(power_transformation_images[0], cmap=\"gray\")\n",
    "            axs[idx * num_rows + row, col + 1].set_title(f\"C={c_val}, Gamma={gamma_val}\", fontsize=40)\n",
    "            axs[idx * num_rows + row, col + 1].axis(\"off\")\n",
    "\n",
    "plt.tight_layout(w_pad=0.5, h_pad=5.0)\n",
    "plt.show()"
   ]
  }
 ],
 "metadata": {
  "kernelspec": {
   "display_name": "Python (latest)",
   "language": "python",
   "name": "latest"
  },
  "language_info": {
   "codemirror_mode": {
    "name": "ipython",
    "version": 3
   },
   "file_extension": ".py",
   "mimetype": "text/x-python",
   "name": "python",
   "nbconvert_exporter": "python",
   "pygments_lexer": "ipython3",
   "version": "3.11.4"
  }
 },
 "nbformat": 4,
 "nbformat_minor": 2
}
